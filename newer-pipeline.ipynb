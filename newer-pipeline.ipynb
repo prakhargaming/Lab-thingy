{
 "cells": [
  {
   "cell_type": "markdown",
   "metadata": {},
   "source": [
    "## Imports"
   ]
  },
  {
   "cell_type": "code",
   "execution_count": 2,
   "metadata": {},
   "outputs": [],
   "source": [
    "import cv2\n",
    "import cupy as cp\n",
    "import numpy as np\n",
    "\n",
    "from skimage.metrics import structural_similarity as ssim\n",
    "from matplotlib import pyplot as plt\n",
    "from cupyx.scipy.signal import fftconvolve\n",
    "from cupyx.scipy.spatial.distance import cdist"
   ]
  },
  {
   "cell_type": "markdown",
   "metadata": {},
   "source": [
    "## Helper Functions"
   ]
  },
  {
   "cell_type": "code",
   "execution_count": 3,
   "metadata": {},
   "outputs": [],
   "source": [
    "def convolve_arrays(array1: np.ndarray, array2: np.ndarray, mode='same') -> cp.ndarray:\n",
    "    cupy_array1 = cp.asarray(array1)\n",
    "    cupy_array2 = cp.asarray(array2)\n",
    "    return fftconvolve(cupy_array1, cupy_array2, mode=mode)"
   ]
  },
  {
   "cell_type": "code",
   "execution_count": 4,
   "metadata": {},
   "outputs": [],
   "source": [
    "def gaussian_filter(size, sigma):\n",
    "    x, y = np.meshgrid(np.linspace(-1, 1, size), np.linspace(-1, 1, size))\n",
    "    d = np.sqrt(x*x + y*y)\n",
    "    g = np.exp(-(d**2 / (2.0 * sigma**2)))\n",
    "    return g / g.sum()"
   ]
  },
  {
   "cell_type": "code",
   "execution_count": 5,
   "metadata": {},
   "outputs": [],
   "source": [
    "def MSE(arr1, arr2):\n",
    "    mse = cp.mean((arr1 - arr2) ** 2)\n",
    "    return mse"
   ]
  },
  {
   "cell_type": "code",
   "execution_count": 6,
   "metadata": {},
   "outputs": [],
   "source": [
    "def kernel_and_divide(sigma, size, le_input, f_name):\n",
    "    gaussian = gaussian_filter(size, sigma)\n",
    "    image_le_temp = convolve_arrays(le_input, gaussian)\n",
    "    division = cp.divide(cp.asnumpy(le_input), image_le_temp)\n",
    "    plt.imsave(\"f_name\", cp.asnumpy(division), cmap=\"gray\")"
   ]
  },
  {
   "cell_type": "code",
   "execution_count": 7,
   "metadata": {},
   "outputs": [
    {
     "ename": "RuntimeError",
     "evalue": "pylibraft is not installed",
     "output_type": "error",
     "traceback": [
      "\u001b[1;31m---------------------------------------------------------------------------\u001b[0m",
      "\u001b[1;31mRuntimeError\u001b[0m                              Traceback (most recent call last)",
      "Input \u001b[1;32mIn [7]\u001b[0m, in \u001b[0;36m<cell line: 41>\u001b[1;34m()\u001b[0m\n\u001b[0;32m     39\u001b[0m img1_path \u001b[38;5;241m=\u001b[39m \u001b[38;5;124m'\u001b[39m\u001b[38;5;124mgood.jpg\u001b[39m\u001b[38;5;124m'\u001b[39m\n\u001b[0;32m     40\u001b[0m img2_path \u001b[38;5;241m=\u001b[39m \u001b[38;5;124m'\u001b[39m\u001b[38;5;124mProstate.jpg\u001b[39m\u001b[38;5;124m'\u001b[39m\n\u001b[1;32m---> 41\u001b[0m similarity \u001b[38;5;241m=\u001b[39m \u001b[43msift_similarity\u001b[49m\u001b[43m(\u001b[49m\u001b[43mimg1_path\u001b[49m\u001b[43m,\u001b[49m\u001b[43m \u001b[49m\u001b[43mimg2_path\u001b[49m\u001b[43m)\u001b[49m\n\u001b[0;32m     42\u001b[0m \u001b[38;5;28mprint\u001b[39m(\u001b[38;5;124mf\u001b[39m\u001b[38;5;124m\"\u001b[39m\u001b[38;5;124mSimilarity score: \u001b[39m\u001b[38;5;132;01m{\u001b[39;00msimilarity\u001b[38;5;132;01m}\u001b[39;00m\u001b[38;5;124m\"\u001b[39m)\n",
      "Input \u001b[1;32mIn [7]\u001b[0m, in \u001b[0;36msift_similarity\u001b[1;34m(img1_path, img2_path)\u001b[0m\n\u001b[0;32m     15\u001b[0m des2_gpu \u001b[38;5;241m=\u001b[39m cp\u001b[38;5;241m.\u001b[39masarray(des2)\n\u001b[0;32m     17\u001b[0m \u001b[38;5;66;03m# Compute pairwise distances between descriptors\u001b[39;00m\n\u001b[1;32m---> 18\u001b[0m distances \u001b[38;5;241m=\u001b[39m \u001b[43mcdist\u001b[49m\u001b[43m(\u001b[49m\u001b[43mdes1_gpu\u001b[49m\u001b[43m,\u001b[49m\u001b[43m \u001b[49m\u001b[43mdes2_gpu\u001b[49m\u001b[43m,\u001b[49m\u001b[43m \u001b[49m\u001b[43mmetric\u001b[49m\u001b[38;5;241;43m=\u001b[39;49m\u001b[38;5;124;43m'\u001b[39;49m\u001b[38;5;124;43meuclidean\u001b[39;49m\u001b[38;5;124;43m'\u001b[39;49m\u001b[43m)\u001b[49m\n\u001b[0;32m     20\u001b[0m \u001b[38;5;66;03m# Convert distances back to numpy for CPU operations\u001b[39;00m\n\u001b[0;32m     21\u001b[0m distances_cpu \u001b[38;5;241m=\u001b[39m cp\u001b[38;5;241m.\u001b[39masnumpy(distances)\n",
      "File \u001b[1;32mc:\\Users\\sinha\\AppData\\Local\\Programs\\Python\\Python310\\lib\\site-packages\\cupyx\\scipy\\spatial\\distance.py:483\u001b[0m, in \u001b[0;36mcdist\u001b[1;34m(XA, XB, metric, out, **kwargs)\u001b[0m\n\u001b[0;32m    454\u001b[0m \u001b[38;5;124;03m\"\"\"Compute distance between each pair of the two collections of inputs.\u001b[39;00m\n\u001b[0;32m    455\u001b[0m \n\u001b[0;32m    456\u001b[0m \u001b[38;5;124;03mArgs:\u001b[39;00m\n\u001b[1;32m   (...)\u001b[0m\n\u001b[0;32m    480\u001b[0m \u001b[38;5;124;03m        :math:`ij` th entry.\u001b[39;00m\n\u001b[0;32m    481\u001b[0m \u001b[38;5;124;03m\"\"\"\u001b[39;00m\n\u001b[0;32m    482\u001b[0m \u001b[38;5;28;01mif\u001b[39;00m \u001b[38;5;129;01mnot\u001b[39;00m pylibraft_available:\n\u001b[1;32m--> 483\u001b[0m     \u001b[38;5;28;01mraise\u001b[39;00m \u001b[38;5;167;01mRuntimeError\u001b[39;00m(\u001b[38;5;124m'\u001b[39m\u001b[38;5;124mpylibraft is not installed\u001b[39m\u001b[38;5;124m'\u001b[39m)\n\u001b[0;32m    484\u001b[0m XA \u001b[38;5;241m=\u001b[39m cupy\u001b[38;5;241m.\u001b[39masarray(XA, dtype\u001b[38;5;241m=\u001b[39m\u001b[38;5;124m'\u001b[39m\u001b[38;5;124mfloat32\u001b[39m\u001b[38;5;124m'\u001b[39m)\n\u001b[0;32m    485\u001b[0m XB \u001b[38;5;241m=\u001b[39m cupy\u001b[38;5;241m.\u001b[39masarray(XB, dtype\u001b[38;5;241m=\u001b[39m\u001b[38;5;124m'\u001b[39m\u001b[38;5;124mfloat32\u001b[39m\u001b[38;5;124m'\u001b[39m)\n",
      "\u001b[1;31mRuntimeError\u001b[0m: pylibraft is not installed"
     ]
    }
   ],
   "source": [
    "def sift_similarity(img1_path, img2_path):\n",
    "    # Read images\n",
    "    img1 = cv2.imread(img1_path, cv2.IMREAD_GRAYSCALE)\n",
    "    img2 = cv2.imread(img2_path, cv2.IMREAD_GRAYSCALE)\n",
    "\n",
    "    # Initialize SIFT detector\n",
    "    sift = cv2.SIFT_create()\n",
    "\n",
    "    # Detect and compute SIFT features\n",
    "    kp1, des1 = sift.detectAndCompute(img1, None)\n",
    "    kp2, des2 = sift.detectAndCompute(img2, None)\n",
    "\n",
    "    # Convert descriptors to CuPy arrays for faster computation\n",
    "    des1_gpu = cp.asarray(des1)\n",
    "    des2_gpu = cp.asarray(des2)\n",
    "\n",
    "    # Compute pairwise distances between descriptors\n",
    "    distances = cdist(des1_gpu, des2_gpu, metric='euclidean')\n",
    "\n",
    "    # Convert distances back to numpy for CPU operations\n",
    "    distances_cpu = cp.asnumpy(distances)\n",
    "\n",
    "    # Find the best matches\n",
    "    bf = cv2.BFMatcher()\n",
    "    matches = bf.knnMatch(des1, des2, k=2)\n",
    "\n",
    "    # Apply ratio test\n",
    "    good_matches = []\n",
    "    for m, n in matches:\n",
    "        if m.distance < 0.75 * n.distance:\n",
    "            good_matches.append(m)\n",
    "\n",
    "    # Calculate similarity score\n",
    "    similarity_score = len(good_matches) / min(len(kp1), len(kp2))\n",
    "\n",
    "    return similarity_score\n",
    "\n",
    "# Example usage\n",
    "img1_path = 'good.jpg'\n",
    "img2_path = 'Prostate.jpg'\n",
    "similarity = sift_similarity(img1_path, img2_path)\n",
    "print(f\"Similarity score: {similarity}\")"
   ]
  },
  {
   "cell_type": "markdown",
   "metadata": {},
   "source": [
    "## Algo"
   ]
  },
  {
   "cell_type": "code",
   "execution_count": null,
   "metadata": {},
   "outputs": [],
   "source": []
  }
 ],
 "metadata": {
  "kernelspec": {
   "display_name": "Python 3",
   "language": "python",
   "name": "python3"
  },
  "language_info": {
   "codemirror_mode": {
    "name": "ipython",
    "version": 3
   },
   "file_extension": ".py",
   "mimetype": "text/x-python",
   "name": "python",
   "nbconvert_exporter": "python",
   "pygments_lexer": "ipython3",
   "version": "3.10.2"
  }
 },
 "nbformat": 4,
 "nbformat_minor": 2
}
