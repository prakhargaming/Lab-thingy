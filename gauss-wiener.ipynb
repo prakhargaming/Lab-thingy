{
 "cells": [
  {
   "cell_type": "markdown",
   "metadata": {},
   "source": [
    "# Kernel Generation for image similarity using Wiener Deconvolution "
   ]
  },
  {
   "cell_type": "markdown",
   "metadata": {},
   "source": [
    "## Imports"
   ]
  },
  {
   "cell_type": "code",
   "execution_count": 3,
   "metadata": {},
   "outputs": [],
   "source": [
    "import numpy as np\n",
    "import cv2\n",
    "from scipy import signal\n",
    "from scipy import fftpack\n",
    "from matplotlib import pyplot as plt"
   ]
  },
  {
   "cell_type": "markdown",
   "metadata": {},
   "source": [
    "## Helper Functions"
   ]
  },
  {
   "cell_type": "markdown",
   "metadata": {},
   "source": [
    "### `gaussian_filter`\n",
    "The function outputs a gaussian filter based on a given sigma"
   ]
  },
  {
   "cell_type": "code",
   "execution_count": 20,
   "metadata": {},
   "outputs": [],
   "source": [
    "def gaussian_filter(size, sigma):\n",
    "    x, y = np.meshgrid(np.linspace(-1, 1, size), np.linspace(-1, 1, size))\n",
    "    d = np.sqrt(x*x + y*y)\n",
    "    g = np.exp(-(d**2 / (2.0 * sigma**2)))\n",
    "    return g / g.sum()"
   ]
  },
  {
   "cell_type": "markdown",
   "metadata": {},
   "source": [
    "### `wiener_deconvolution`\n",
    "Performs wiener deconvolution on a target and input image and outputs a kernal."
   ]
  },
  {
   "cell_type": "code",
   "execution_count": 5,
   "metadata": {},
   "outputs": [],
   "source": [
    "def wiener_deconvolution(input_image: np.ndarray, target_image: np.ndarray, noise_level: float = 0.1, kernel_size: int = 15) -> np.ndarray:\n",
    "    \"\"\"\n",
    "    Perform Wiener deconvolution to compute the deblurring kernel.\n",
    "\n",
    "    Parameters:\n",
    "    - input_image: np.ndarray - The input (blurry) image.\n",
    "    - target_image: np.ndarray - The target (sharp) image.\n",
    "    - noise_level: float - The noise level for regularization (default is 0.1).\n",
    "\n",
    "    Returns:\n",
    "    - np.ndarray - The computed deblurring kernel.\n",
    "    \"\"\"\n",
    "   # Compute FFT of input and target images\n",
    "    input_fft = fftpack.fft2(input_image)\n",
    "    target_fft = fftpack.fft2(target_image)\n",
    "    \n",
    "    # Estimate the filter in frequency domain\n",
    "    filter_fft = np.conj(input_fft) * target_fft / (np.abs(input_fft)**2 + noise_level**2)\n",
    "    \n",
    "    # Convert filter back to spatial domain\n",
    "    kernel = np.real(fftpack.ifft2(filter_fft))\n",
    "    \n",
    "    # Normalize and truncate the kernel\n",
    "    kernel = kernel / np.sum(kernel)\n",
    "    kernel = fftpack.fftshift(kernel)\n",
    "    center = kernel.shape[0] // 2\n",
    "    kernel = kernel[center - kernel_size // 2:center + kernel_size // 2 + 1,\n",
    "                    center - kernel_size // 2:center + kernel_size // 2 + 1]\n",
    "    \n",
    "    return kernel"
   ]
  },
  {
   "cell_type": "markdown",
   "metadata": {},
   "source": [
    "### `apply_kernel`\n",
    "Applies kernel."
   ]
  },
  {
   "cell_type": "code",
   "execution_count": 6,
   "metadata": {},
   "outputs": [],
   "source": [
    "def apply_kernel(image: np.ndarray, kernel: np.ndarray) -> np.ndarray:\n",
    "    return signal.convolve2d(image, kernel, mode='same', boundary='wrap')"
   ]
  },
  {
   "cell_type": "markdown",
   "metadata": {},
   "source": [
    "### `apply_sharpening`\n",
    "Applies sharpening to an image based on a given sharpening factor."
   ]
  },
  {
   "cell_type": "code",
   "execution_count": 7,
   "metadata": {},
   "outputs": [],
   "source": [
    "def apply_sharpening(image: np.ndarray, sharpening_factor: float):\n",
    "    \"\"\"\n",
    "    Apply sharpening to the image.\n",
    "    :param image: Input image\n",
    "    :param sharpening_factor: Factor to control the strength of sharpening (0.0 means no sharpening)\n",
    "    :return: Sharpened image\n",
    "    \"\"\"\n",
    "    # Define sharpening kernel\n",
    "    kernel = np.array([[0, -1, 0],\n",
    "                       [-1, 5 + sharpening_factor, -1],\n",
    "                       [0, -1, 0]])\n",
    "    # Apply the kernel to the image\n",
    "    sharpened_image = cv2.filter2D(image, -1, kernel)\n",
    "    return sharpened_image"
   ]
  },
  {
   "cell_type": "markdown",
   "metadata": {},
   "source": [
    "### `adjust_brightness`\n",
    "Adjusts the brightness of an image based on a given brightness factor."
   ]
  },
  {
   "cell_type": "code",
   "execution_count": 8,
   "metadata": {},
   "outputs": [],
   "source": [
    "def adjust_brightness(image: np.ndarray, brightness_factor: float) -> np.ndarray:\n",
    "    \"\"\"\n",
    "    Adjust the brightness of the image.\n",
    "    :param image: Input image\n",
    "    :param brightness_factor: Factor by which to increase the brightness (1.0 means no change)\n",
    "    :return: Brightness adjusted image\n",
    "    \"\"\"\n",
    "    # Convert image to float32 to prevent clipping values during multiplication\n",
    "    image_float = image.astype(np.float32)\n",
    "    # Adjust brightness\n",
    "    brightened_image = image_float * brightness_factor\n",
    "    # Clip values to the range [0, 255]\n",
    "    brightened_image = np.clip(brightened_image, 0, 255)\n",
    "    # Convert back to uint8\n",
    "    return brightened_image.astype(np.uint8)"
   ]
  },
  {
   "cell_type": "markdown",
   "metadata": {},
   "source": [
    "### `brighten_dark_spots` \n",
    "Currently not in use, meant to do what it says."
   ]
  },
  {
   "cell_type": "code",
   "execution_count": 9,
   "metadata": {},
   "outputs": [],
   "source": [
    "def brighten_dark_spots(image, threshold=50, brighten_factor=1.5):\n",
    "    \"\"\"\n",
    "    Brighten only the dark spots of the image.\n",
    "    :param image: Input grayscale image\n",
    "    :param threshold: Intensity threshold to identify dark spots\n",
    "    :param brighten_factor: Factor by which to brighten the dark spots\n",
    "    :return: Image with brightened dark spots\n",
    "    \"\"\"\n",
    "    # Ensure image is in float32 to prevent clipping values during multiplication\n",
    "    image_float = image.astype(np.float32)\n",
    "    \n",
    "    # Create a mask for dark spots\n",
    "    dark_spots_mask = image_float < threshold\n",
    "    \n",
    "    # Brighten dark spots\n",
    "    brightened_image = image_float.copy()\n",
    "    brightened_image[dark_spots_mask] *= brighten_factor\n",
    "    \n",
    "    # Clip values to the range [0, 255]\n",
    "    brightened_image = np.clip(brightened_image, 0, 255)\n",
    "    \n",
    "    # Convert back to uint8\n",
    "    return brightened_image.astype(np.uint8)"
   ]
  },
  {
   "cell_type": "markdown",
   "metadata": {},
   "source": [
    "## Algo"
   ]
  },
  {
   "cell_type": "markdown",
   "metadata": {},
   "source": [
    "### Load images in grayscale"
   ]
  },
  {
   "cell_type": "code",
   "execution_count": 10,
   "metadata": {},
   "outputs": [],
   "source": [
    "# Load images\n",
    "input_image = cv2.imread('Prostate.jpg', cv2.IMREAD_GRAYSCALE)\n",
    "target_image = cv2.imread('good.jpg', cv2.IMREAD_GRAYSCALE)\n",
    "\n",
    "# Ensure images are the same size\n",
    "min_shape = np.minimum(input_image.shape, target_image.shape)\n",
    "input_image = input_image[:min_shape[0], :min_shape[1]]\n",
    "target_image = target_image[:min_shape[0], :min_shape[1]]"
   ]
  },
  {
   "cell_type": "code",
   "execution_count": 26,
   "metadata": {},
   "outputs": [
    {
     "name": "stdout",
     "output_type": "stream",
     "text": [
      "(10, 10)\n"
     ]
    },
    {
     "data": {
      "text/plain": [
       "<matplotlib.image.AxesImage at 0x1571e8fdbb0>"
      ]
     },
     "execution_count": 26,
     "metadata": {},
     "output_type": "execute_result"
    },
    {
     "data": {
      "image/png": "[encoded data removed]",
      "text/plain": [
       "<Figure size 640x480 with 1 Axes>"
      ]
     },
     "metadata": {},
     "output_type": "display_data"
    }
   ],
   "source": [
    "hi = gaussian_filter(10, 0.3)\n",
    "print(hi.shape)\n",
    "plt.imshow(hi, cmap=\"gray\")"
   ]
  },
  {
   "cell_type": "markdown",
   "metadata": {},
   "source": [
    "### Apply wiener deconvolution and apply kernel to input image"
   ]
  },
  {
   "cell_type": "code",
   "execution_count": 12,
   "metadata": {},
   "outputs": [],
   "source": [
    "# Compute the kernel using Wiener deconvolution\n",
    "kernel = wiener_deconvolution(input_image, target_image, noise_level=0.1, kernel_size=15)\n",
    "\n",
    "# Apply the kernel to the input image\n",
    "result_image_og = apply_kernel(input_image, kernel)"
   ]
  },
  {
   "cell_type": "markdown",
   "metadata": {},
   "source": [
    "### Adjust brightness and contrast and plot images"
   ]
  }
 ],
 "metadata": {
  "kernelspec": {
   "display_name": "Python 3",
   "language": "python",
   "name": "python3"
  },
  "language_info": {
   "codemirror_mode": {
    "name": "ipython",
    "version": 3
   },
   "file_extension": ".py",
   "mimetype": "text/x-python",
   "name": "python",
   "nbconvert_exporter": "python",
   "pygments_lexer": "ipython3",
   "version": "3.12.4"
  }
 },
 "nbformat": 4,
 "nbformat_minor": 2
}
