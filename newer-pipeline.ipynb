{
 "cells": [
  {
   "cell_type": "markdown",
   "metadata": {},
   "source": [
    "## Imports"
   ]
  },
  {
   "cell_type": "code",
   "execution_count": 2,
   "metadata": {},
   "outputs": [],
   "source": [
    "import cv2\n",
    "import cupy as cp\n",
    "import numpy as np\n",
    "\n",
    "from skimage.metrics import structural_similarity as ssim\n",
    "from matplotlib import pyplot as plt\n",
    "from cupyx.scipy.signal import fftconvolve\n",
    "from cupyx.scipy.spatial.distance import cdist"
   ]
  },
  {
   "cell_type": "markdown",
   "metadata": {},
   "source": [
    "## Helper Functions"
   ]
  },
  {
   "cell_type": "code",
   "execution_count": 68,
   "metadata": {},
   "outputs": [],
   "source": [
    "def convolve_arrays(array1: np.ndarray, array2: np.ndarray, mode='same') -> cp.ndarray:\n",
    "    cupy_array1 = cp.asarray(array1)\n",
    "    cupy_array2 = cp.asarray(array2)\n",
    "    return cp.asnumpy(fftconvolve(cupy_array1, cupy_array2, mode=mode))"
   ]
  },
  {
   "cell_type": "code",
   "execution_count": 49,
   "metadata": {},
   "outputs": [],
   "source": [
    "def gaussian_filter(size, sigma):\n",
    "    x, y = np.meshgrid(np.linspace(-1, 1, size), np.linspace(-1, 1, size))\n",
    "    d = np.sqrt(x*x + y*y)\n",
    "    g = np.exp(-(d**2 / (2.0 * sigma**2)))\n",
    "    return g / g.sum()"
   ]
  },
  {
   "cell_type": "code",
   "execution_count": 5,
   "metadata": {},
   "outputs": [],
   "source": [
    "def MSE(arr1, arr2):\n",
    "    mse = cp.mean((arr1 - arr2) ** 2)\n",
    "    return mse"
   ]
  },
  {
   "cell_type": "code",
   "execution_count": 6,
   "metadata": {},
   "outputs": [],
   "source": [
    "def kernel_and_divide(sigma, size, le_input, f_name):\n",
    "    gaussian = gaussian_filter(size, sigma)\n",
    "    image_le_temp = convolve_arrays(le_input, gaussian)\n",
    "    division = cp.divide(cp.asnumpy(le_input), image_le_temp)\n",
    "    plt.imsave(\"f_name\", cp.asnumpy(division), cmap=\"gray\")"
   ]
  },
  {
   "cell_type": "code",
   "execution_count": 7,
   "metadata": {},
   "outputs": [
    {
     "ename": "RuntimeError",
     "evalue": "pylibraft is not installed",
     "output_type": "error",
     "traceback": [
      "\u001b[1;31m---------------------------------------------------------------------------\u001b[0m",
      "\u001b[1;31mRuntimeError\u001b[0m                              Traceback (most recent call last)",
      "Input \u001b[1;32mIn [7]\u001b[0m, in \u001b[0;36m<cell line: 41>\u001b[1;34m()\u001b[0m\n\u001b[0;32m     39\u001b[0m img1_path \u001b[38;5;241m=\u001b[39m \u001b[38;5;124m'\u001b[39m\u001b[38;5;124mgood.jpg\u001b[39m\u001b[38;5;124m'\u001b[39m\n\u001b[0;32m     40\u001b[0m img2_path \u001b[38;5;241m=\u001b[39m \u001b[38;5;124m'\u001b[39m\u001b[38;5;124mProstate.jpg\u001b[39m\u001b[38;5;124m'\u001b[39m\n\u001b[1;32m---> 41\u001b[0m similarity \u001b[38;5;241m=\u001b[39m \u001b[43msift_similarity\u001b[49m\u001b[43m(\u001b[49m\u001b[43mimg1_path\u001b[49m\u001b[43m,\u001b[49m\u001b[43m \u001b[49m\u001b[43mimg2_path\u001b[49m\u001b[43m)\u001b[49m\n\u001b[0;32m     42\u001b[0m \u001b[38;5;28mprint\u001b[39m(\u001b[38;5;124mf\u001b[39m\u001b[38;5;124m\"\u001b[39m\u001b[38;5;124mSimilarity score: \u001b[39m\u001b[38;5;132;01m{\u001b[39;00msimilarity\u001b[38;5;132;01m}\u001b[39;00m\u001b[38;5;124m\"\u001b[39m)\n",
      "Input \u001b[1;32mIn [7]\u001b[0m, in \u001b[0;36msift_similarity\u001b[1;34m(img1_path, img2_path)\u001b[0m\n\u001b[0;32m     15\u001b[0m des2_gpu \u001b[38;5;241m=\u001b[39m cp\u001b[38;5;241m.\u001b[39masarray(des2)\n\u001b[0;32m     17\u001b[0m \u001b[38;5;66;03m# Compute pairwise distances between descriptors\u001b[39;00m\n\u001b[1;32m---> 18\u001b[0m distances \u001b[38;5;241m=\u001b[39m \u001b[43mcdist\u001b[49m\u001b[43m(\u001b[49m\u001b[43mdes1_gpu\u001b[49m\u001b[43m,\u001b[49m\u001b[43m \u001b[49m\u001b[43mdes2_gpu\u001b[49m\u001b[43m,\u001b[49m\u001b[43m \u001b[49m\u001b[43mmetric\u001b[49m\u001b[38;5;241;43m=\u001b[39;49m\u001b[38;5;124;43m'\u001b[39;49m\u001b[38;5;124;43meuclidean\u001b[39;49m\u001b[38;5;124;43m'\u001b[39;49m\u001b[43m)\u001b[49m\n\u001b[0;32m     20\u001b[0m \u001b[38;5;66;03m# Convert distances back to numpy for CPU operations\u001b[39;00m\n\u001b[0;32m     21\u001b[0m distances_cpu \u001b[38;5;241m=\u001b[39m cp\u001b[38;5;241m.\u001b[39masnumpy(distances)\n",
      "File \u001b[1;32mc:\\Users\\sinha\\AppData\\Local\\Programs\\Python\\Python310\\lib\\site-packages\\cupyx\\scipy\\spatial\\distance.py:483\u001b[0m, in \u001b[0;36mcdist\u001b[1;34m(XA, XB, metric, out, **kwargs)\u001b[0m\n\u001b[0;32m    454\u001b[0m \u001b[38;5;124;03m\"\"\"Compute distance between each pair of the two collections of inputs.\u001b[39;00m\n\u001b[0;32m    455\u001b[0m \n\u001b[0;32m    456\u001b[0m \u001b[38;5;124;03mArgs:\u001b[39;00m\n\u001b[1;32m   (...)\u001b[0m\n\u001b[0;32m    480\u001b[0m \u001b[38;5;124;03m        :math:`ij` th entry.\u001b[39;00m\n\u001b[0;32m    481\u001b[0m \u001b[38;5;124;03m\"\"\"\u001b[39;00m\n\u001b[0;32m    482\u001b[0m \u001b[38;5;28;01mif\u001b[39;00m \u001b[38;5;129;01mnot\u001b[39;00m pylibraft_available:\n\u001b[1;32m--> 483\u001b[0m     \u001b[38;5;28;01mraise\u001b[39;00m \u001b[38;5;167;01mRuntimeError\u001b[39;00m(\u001b[38;5;124m'\u001b[39m\u001b[38;5;124mpylibraft is not installed\u001b[39m\u001b[38;5;124m'\u001b[39m)\n\u001b[0;32m    484\u001b[0m XA \u001b[38;5;241m=\u001b[39m cupy\u001b[38;5;241m.\u001b[39masarray(XA, dtype\u001b[38;5;241m=\u001b[39m\u001b[38;5;124m'\u001b[39m\u001b[38;5;124mfloat32\u001b[39m\u001b[38;5;124m'\u001b[39m)\n\u001b[0;32m    485\u001b[0m XB \u001b[38;5;241m=\u001b[39m cupy\u001b[38;5;241m.\u001b[39masarray(XB, dtype\u001b[38;5;241m=\u001b[39m\u001b[38;5;124m'\u001b[39m\u001b[38;5;124mfloat32\u001b[39m\u001b[38;5;124m'\u001b[39m)\n",
      "\u001b[1;31mRuntimeError\u001b[0m: pylibraft is not installed"
     ]
    }
   ],
   "source": [
    "# def sift_similarity(img1_path, img2_path):\n",
    "#     # Read images\n",
    "#     img1 = cv2.imread(img1_path, cv2.IMREAD_GRAYSCALE)\n",
    "#     img2 = cv2.imread(img2_path, cv2.IMREAD_GRAYSCALE)\n",
    "\n",
    "#     # Initialize SIFT detector\n",
    "#     sift = cv2.SIFT_create()\n",
    "\n",
    "#     # Detect and compute SIFT features\n",
    "#     kp1, des1 = sift.detectAndCompute(img1, None)\n",
    "#     kp2, des2 = sift.detectAndCompute(img2, None)\n",
    "\n",
    "#     # Convert descriptors to CuPy arrays for faster computation\n",
    "#     des1_gpu = cp.asarray(des1)\n",
    "#     des2_gpu = cp.asarray(des2)\n",
    "\n",
    "#     # Compute pairwise distances between descriptors\n",
    "#     distances = cdist(des1_gpu, des2_gpu, metric='euclidean')\n",
    "\n",
    "#     # Convert distances back to numpy for CPU operations\n",
    "#     distances_cpu = cp.asnumpy(distances)\n",
    "\n",
    "#     # Find the best matches\n",
    "#     bf = cv2.BFMatcher()\n",
    "#     matches = bf.knnMatch(des1, des2, k=2)\n",
    "\n",
    "#     # Apply ratio test\n",
    "#     good_matches = []\n",
    "#     for m, n in matches:\n",
    "#         if m.distance < 0.75 * n.distance:\n",
    "#             good_matches.append(m)\n",
    "\n",
    "#     # Calculate similarity score\n",
    "#     similarity_score = len(good_matches) / min(len(kp1), len(kp2))\n",
    "\n",
    "#     return similarity_score\n",
    "\n",
    "# # Example usage\n",
    "# img1_path = 'good.jpg'\n",
    "# img2_path = 'Prostate.jpg'\n",
    "# similarity = sift_similarity(img1_path, img2_path)\n",
    "# print(f\"Similarity score: {similarity}\")"
   ]
  },
  {
   "cell_type": "code",
   "execution_count": 66,
   "metadata": {},
   "outputs": [],
   "source": [
    "import cv2\n",
    "\n",
    "def sift_similarity(img1, img2):\n",
    "    # Initialize SIFT detector\n",
    "    sift = cv2.SIFT_create()\n",
    "\n",
    "    # Detect and compute SIFT features\n",
    "    kp1, des1 = sift.detectAndCompute(img1, None)\n",
    "    kp2, des2 = sift.detectAndCompute(img2, None)\n",
    "\n",
    "    # Use brute-force matcher\n",
    "    bf = cv2.BFMatcher()\n",
    "    matches = bf.knnMatch(des1, des2, k=2)\n",
    "\n",
    "    # Apply ratio test\n",
    "    good_matches = []\n",
    "    for m, n in matches:\n",
    "        if m.distance < 0.75 * n.distance:\n",
    "            good_matches.append(m)\n",
    "\n",
    "    # Calculate similarity score\n",
    "    similarity_score = len(good_matches) / min(len(kp1), len(kp2))\n",
    "\n",
    "    return similarity_score"
   ]
  },
  {
   "cell_type": "code",
   "execution_count": 63,
   "metadata": {},
   "outputs": [
    {
     "ename": "error",
     "evalue": "OpenCV(4.7.0) :-1: error: (-5:Bad argument) in function 'detectAndCompute'\n> Overload resolution failed:\n>  - image is not a numpy array, neither a scalar\n>  - Expected Ptr<cv::UMat> for argument 'image'\n",
     "output_type": "error",
     "traceback": [
      "\u001b[1;31m---------------------------------------------------------------------------\u001b[0m",
      "\u001b[1;31merror\u001b[0m                                     Traceback (most recent call last)",
      "Input \u001b[1;32mIn [63]\u001b[0m, in \u001b[0;36m<cell line: 36>\u001b[1;34m()\u001b[0m\n\u001b[0;32m     34\u001b[0m img1_path \u001b[38;5;241m=\u001b[39m \u001b[38;5;124m'\u001b[39m\u001b[38;5;124mgood.jpg\u001b[39m\u001b[38;5;124m'\u001b[39m\n\u001b[0;32m     35\u001b[0m img2_path \u001b[38;5;241m=\u001b[39m \u001b[38;5;124m'\u001b[39m\u001b[38;5;124mProstate.jpg\u001b[39m\u001b[38;5;124m'\u001b[39m\n\u001b[1;32m---> 36\u001b[0m similarity \u001b[38;5;241m=\u001b[39m \u001b[43msift_similarity_another\u001b[49m\u001b[43m(\u001b[49m\u001b[43mimg1_path\u001b[49m\u001b[43m,\u001b[49m\u001b[43m \u001b[49m\u001b[43mimg2_path\u001b[49m\u001b[43m)\u001b[49m\n\u001b[0;32m     37\u001b[0m \u001b[38;5;28mprint\u001b[39m(\u001b[38;5;124mf\u001b[39m\u001b[38;5;124m\"\u001b[39m\u001b[38;5;124mSimilarity score: \u001b[39m\u001b[38;5;132;01m{\u001b[39;00msimilarity\u001b[38;5;132;01m}\u001b[39;00m\u001b[38;5;124m\"\u001b[39m)\n",
      "Input \u001b[1;32mIn [63]\u001b[0m, in \u001b[0;36msift_similarity_another\u001b[1;34m(img1, img2)\u001b[0m\n\u001b[0;32m      9\u001b[0m sift \u001b[38;5;241m=\u001b[39m cv2\u001b[38;5;241m.\u001b[39mSIFT_create()\n\u001b[0;32m     11\u001b[0m \u001b[38;5;66;03m# Detect and compute SIFT features\u001b[39;00m\n\u001b[1;32m---> 12\u001b[0m kp1, des1 \u001b[38;5;241m=\u001b[39m \u001b[43msift\u001b[49m\u001b[38;5;241;43m.\u001b[39;49m\u001b[43mdetectAndCompute\u001b[49m\u001b[43m(\u001b[49m\u001b[43mimg1\u001b[49m\u001b[43m,\u001b[49m\u001b[43m \u001b[49m\u001b[38;5;28;43;01mNone\u001b[39;49;00m\u001b[43m)\u001b[49m\n\u001b[0;32m     13\u001b[0m kp2, des2 \u001b[38;5;241m=\u001b[39m sift\u001b[38;5;241m.\u001b[39mdetectAndCompute(img2, \u001b[38;5;28;01mNone\u001b[39;00m)\n\u001b[0;32m     15\u001b[0m \u001b[38;5;66;03m# Compute pairwise distances between descriptors using CPU\u001b[39;00m\n",
      "\u001b[1;31merror\u001b[0m: OpenCV(4.7.0) :-1: error: (-5:Bad argument) in function 'detectAndCompute'\n> Overload resolution failed:\n>  - image is not a numpy array, neither a scalar\n>  - Expected Ptr<cv::UMat> for argument 'image'\n"
     ]
    }
   ],
   "source": [
    "import cv2\n",
    "import numpy as np\n",
    "from scipy.spatial.distance import cdist\n",
    "\n",
    "def sift_similarity_another(img1, img2):\n",
    "    # Read images\n",
    "\n",
    "    # Initialize SIFT detector\n",
    "    sift = cv2.SIFT_create()\n",
    "\n",
    "    # Detect and compute SIFT features\n",
    "    kp1, des1 = sift.detectAndCompute(img1, None)\n",
    "    kp2, des2 = sift.detectAndCompute(img2, None)\n",
    "\n",
    "    # Compute pairwise distances between descriptors using CPU\n",
    "    distances = cdist(des1, des2, metric='euclidean')\n",
    "\n",
    "    # Find the best matches\n",
    "    bf = cv2.BFMatcher()\n",
    "    matches = bf.knnMatch(des1, des2, k=2)\n",
    "\n",
    "    # Apply ratio test\n",
    "    good_matches = []\n",
    "    for m, n in matches:\n",
    "        if m.distance < 0.75 * n.distance:\n",
    "            good_matches.append(m)\n",
    "\n",
    "    # Calculate similarity score\n",
    "    similarity_score = len(good_matches) / min(len(kp1), len(kp2))\n",
    "\n",
    "    return similarity_score\n",
    "\n",
    "# Example usage\n",
    "img1_path = 'good.jpg'\n",
    "img2_path = 'Prostate.jpg'\n",
    "similarity = sift_similarity_another(img1_path, img2_path)\n",
    "print(f\"Similarity score: {similarity}\")\n"
   ]
  },
  {
   "cell_type": "code",
   "execution_count": 52,
   "metadata": {},
   "outputs": [],
   "source": [
    "def uint8_conversion(data):\n",
    "    info = np.iinfo(data.dtype) # Get the information of the incoming image type\n",
    "    data = data.astype(np.float64) / info.max # normalize the data to 0 - 1\n",
    "    data = 255 * data # Now scale by 255\n",
    "    return data.astype(np.uint8)"
   ]
  },
  {
   "cell_type": "markdown",
   "metadata": {},
   "source": [
    "## Algo"
   ]
  },
  {
   "cell_type": "code",
   "execution_count": 57,
   "metadata": {},
   "outputs": [
    {
     "data": {
      "text/plain": [
       "(2048, 2048)"
      ]
     },
     "execution_count": 57,
     "metadata": {},
     "output_type": "execute_result"
    }
   ],
   "source": [
    "img1_path = 'good.jpg'\n",
    "img2_path = 'Prostate.jpg'\n",
    "\n",
    "target = cv2.imread(img1_path, cv2.IMREAD_GRAYSCALE)\n",
    "leinput = cv2.imread(img2_path, cv2.IMREAD_GRAYSCALE)"
   ]
  },
  {
   "cell_type": "code",
   "execution_count": 39,
   "metadata": {},
   "outputs": [],
   "source": [
    "# gauss = gaussian_filter(11, 3)\n",
    "# convolved = cp.asnumpy(convolve_arrays(leinput, gauss))\n",
    "# plt.imsave(\"amgus.jpg\", np.divide(convolved, leinput), cmap = \"gray\")"
   ]
  },
  {
   "cell_type": "code",
   "execution_count": 47,
   "metadata": {},
   "outputs": [],
   "source": [
    "best_sift = 0\n",
    "best_sigma = 0\n",
    "best_kernel = 0"
   ]
  },
  {
   "cell_type": "code",
   "execution_count": 70,
   "metadata": {},
   "outputs": [
    {
     "ename": "error",
     "evalue": "OpenCV(4.7.0) D:\\a\\opencv-python\\opencv-python\\opencv\\modules\\features2d\\src\\sift.dispatch.cpp:495: error: (-5:Bad argument) image is empty or has incorrect depth (!=CV_8U) in function 'cv::SIFT_Impl::detectAndCompute'\n",
     "output_type": "error",
     "traceback": [
      "\u001b[1;31m---------------------------------------------------------------------------\u001b[0m",
      "\u001b[1;31merror\u001b[0m                                     Traceback (most recent call last)",
      "Input \u001b[1;32mIn [70]\u001b[0m, in \u001b[0;36m<cell line: 1>\u001b[1;34m()\u001b[0m\n\u001b[0;32m      4\u001b[0m convolved \u001b[38;5;241m=\u001b[39m cp\u001b[38;5;241m.\u001b[39masnumpy(convolve_arrays(leinput, gauss))\n\u001b[0;32m      5\u001b[0m division \u001b[38;5;241m=\u001b[39m np\u001b[38;5;241m.\u001b[39mdivide(convolved, leinput)\n\u001b[1;32m----> 7\u001b[0m SIFT \u001b[38;5;241m=\u001b[39m \u001b[43msift_similarity\u001b[49m\u001b[43m(\u001b[49m\u001b[43mtarget\u001b[49m\u001b[43m,\u001b[49m\u001b[43m \u001b[49m\u001b[43mdivision\u001b[49m\u001b[43m)\u001b[49m\n\u001b[0;32m      9\u001b[0m \u001b[38;5;28;01mif\u001b[39;00m SIFT \u001b[38;5;241m>\u001b[39m best_sift:\n\u001b[0;32m     10\u001b[0m     best_sift \u001b[38;5;241m=\u001b[39m SIFT\n",
      "Input \u001b[1;32mIn [66]\u001b[0m, in \u001b[0;36msift_similarity\u001b[1;34m(img1, img2)\u001b[0m\n\u001b[0;32m      7\u001b[0m \u001b[38;5;66;03m# Detect and compute SIFT features\u001b[39;00m\n\u001b[0;32m      8\u001b[0m kp1, des1 \u001b[38;5;241m=\u001b[39m sift\u001b[38;5;241m.\u001b[39mdetectAndCompute(img1, \u001b[38;5;28;01mNone\u001b[39;00m)\n\u001b[1;32m----> 9\u001b[0m kp2, des2 \u001b[38;5;241m=\u001b[39m \u001b[43msift\u001b[49m\u001b[38;5;241;43m.\u001b[39;49m\u001b[43mdetectAndCompute\u001b[49m\u001b[43m(\u001b[49m\u001b[43mimg2\u001b[49m\u001b[43m,\u001b[49m\u001b[43m \u001b[49m\u001b[38;5;28;43;01mNone\u001b[39;49;00m\u001b[43m)\u001b[49m\n\u001b[0;32m     11\u001b[0m \u001b[38;5;66;03m# Use brute-force matcher\u001b[39;00m\n\u001b[0;32m     12\u001b[0m bf \u001b[38;5;241m=\u001b[39m cv2\u001b[38;5;241m.\u001b[39mBFMatcher()\n",
      "\u001b[1;31merror\u001b[0m: OpenCV(4.7.0) D:\\a\\opencv-python\\opencv-python\\opencv\\modules\\features2d\\src\\sift.dispatch.cpp:495: error: (-5:Bad argument) image is empty or has incorrect depth (!=CV_8U) in function 'cv::SIFT_Impl::detectAndCompute'\n"
     ]
    }
   ],
   "source": [
    "for kernel_size in range(11, 22, 2):\n",
    "    for sigma in np.arange(0.1, 5, 0.1):\n",
    "        gauss = gaussian_filter(kernel_size, sigma)\n",
    "        convolved = cp.asnumpy(convolve_arrays(leinput, gauss))\n",
    "        division = np.divide(convolved, leinput)\n",
    "\n",
    "        SIFT = sift_similarity(target, division)\n",
    "\n",
    "        if SIFT > best_sift:\n",
    "            best_sift = SIFT\n",
    "            best_sigma = sigma\n",
    "            best_kernel = kernel_size"
   ]
  },
  {
   "cell_type": "code",
   "execution_count": 72,
   "metadata": {},
   "outputs": [
    {
     "name": "stdout",
     "output_type": "stream",
     "text": [
      "Best sigma: 0.30000000000000004\n",
      "Best kernel size: 15\n",
      "Best SIFT similarity: 150\n"
     ]
    }
   ],
   "source": [
    "import numpy as np\n",
    "import cv2\n",
    "from scipy.signal import convolve2d\n",
    "\n",
    "def gaussian_filter(size, sigma):\n",
    "    x, y = np.meshgrid(np.linspace(-1, 1, size), np.linspace(-1, 1, size))\n",
    "    d = np.sqrt(x*x + y*y)\n",
    "    g = np.exp(-(d**2 / (2.0 * sigma**2)))\n",
    "    return g / g.sum()\n",
    "\n",
    "def convolve_arrays(image, kernel):\n",
    "    return convolve2d(image, kernel, mode='same', boundary='symm')\n",
    "\n",
    "def sift_similarity(img1, img2):\n",
    "    # Convert images to uint8\n",
    "    img1 = (img1 * 255).astype(np.uint8)\n",
    "    img2 = (img2 * 255).astype(np.uint8)\n",
    "\n",
    "    # Initialize SIFT detector\n",
    "    sift = cv2.SIFT_create()\n",
    "\n",
    "    # Detect and compute SIFT features\n",
    "    kp1, des1 = sift.detectAndCompute(img1, None)\n",
    "    kp2, des2 = sift.detectAndCompute(img2, None)\n",
    "\n",
    "    # FLANN parameters\n",
    "    FLANN_INDEX_KDTREE = 1\n",
    "    index_params = dict(algorithm=FLANN_INDEX_KDTREE, trees=5)\n",
    "    search_params = dict(checks=50)\n",
    "\n",
    "    # FLANN-based matcher\n",
    "    flann = cv2.FlannBasedMatcher(index_params, search_params)\n",
    "\n",
    "    matches = flann.knnMatch(des1, des2, k=2)\n",
    "\n",
    "    # Apply ratio test\n",
    "    good_matches = []\n",
    "    for m, n in matches:\n",
    "        if m.distance < 0.7 * n.distance:\n",
    "            good_matches.append(m)\n",
    "\n",
    "    return len(good_matches)\n",
    "\n",
    "def optimize_gaussian(target, leinput):\n",
    "    best_sift = 0\n",
    "    best_sigma = 0\n",
    "    best_kernel = 0\n",
    "\n",
    "    for kernel_size in range(11, 22, 2):\n",
    "        for sigma in np.arange(0.1, 5, 0.1):\n",
    "            gauss = gaussian_filter(kernel_size, sigma)\n",
    "            convolved = convolve_arrays(leinput, gauss)\n",
    "            division = np.divide(convolved, leinput)\n",
    "\n",
    "            SIFT = sift_similarity(target, division)\n",
    "\n",
    "            if SIFT > best_sift:\n",
    "                best_sift = SIFT\n",
    "                best_sigma = sigma\n",
    "                best_kernel = kernel_size\n",
    "\n",
    "    return best_sigma, best_kernel, best_sift\n",
    "\n",
    "# Example usage\n",
    "target = cv2.imread('good.jpg', cv2.IMREAD_GRAYSCALE) / 255.0\n",
    "leinput = cv2.imread('Prostate.jpg', cv2.IMREAD_GRAYSCALE) / 255.0\n",
    "\n",
    "best_sigma, best_kernel, best_sift = optimize_gaussian(target, leinput)\n",
    "\n",
    "print(f\"Best sigma: {best_sigma}\")\n",
    "print(f\"Best kernel size: {best_kernel}\")\n",
    "print(f\"Best SIFT similarity: {best_sift}\")"
   ]
  },
  {
   "cell_type": "code",
   "execution_count": 74,
   "metadata": {},
   "outputs": [],
   "source": [
    "leinput = cv2.imread('Prostate.jpg', cv2.IMREAD_GRAYSCALE) / 255.0\n",
    "gauss = gaussian_filter(15, 0.30000000000000004)\n",
    "convolved = convolve_arrays(leinput, gauss)\n",
    "division = np.divide(convolved, leinput)\n",
    "plt.imsave(\"what.jpg\", division, cmap=\"gray\")"
   ]
  }
 ],
 "metadata": {
  "kernelspec": {
   "display_name": "Python 3",
   "language": "python",
   "name": "python3"
  },
  "language_info": {
   "codemirror_mode": {
    "name": "ipython",
    "version": 3
   },
   "file_extension": ".py",
   "mimetype": "text/x-python",
   "name": "python",
   "nbconvert_exporter": "python",
   "pygments_lexer": "ipython3",
   "version": "undefined.undefined.undefined"
  }
 },
 "nbformat": 4,
 "nbformat_minor": 2
}
