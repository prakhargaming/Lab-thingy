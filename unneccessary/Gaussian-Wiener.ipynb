{
 "cells": [
  {
   "cell_type": "code",
   "execution_count": 2,
   "metadata": {},
   "outputs": [],
   "source": [
    "import numpy as np\n",
    "import cv2\n",
    "from scipy import signal\n",
    "from scipy import fftpack\n",
    "from matplotlib import pyplot as plt"
   ]
  },
  {
   "cell_type": "markdown",
   "metadata": {},
   "source": [
    "# Pipeline"
   ]
  },
  {
   "cell_type": "code",
   "execution_count": 13,
   "metadata": {},
   "outputs": [],
   "source": [
    "def wiener_deconvolution(input_image: np.ndarray, target_image: np.ndarray, noise_level: float = 0.1, kernel_size: int = 15) -> np.ndarray:\n",
    "    \"\"\"\n",
    "    Perform Wiener deconvolution to compute the deblurring kernel.\n",
    "\n",
    "    Parameters:\n",
    "    - input_image: np.ndarray - The input (blurry) image.\n",
    "    - target_image: np.ndarray - The target (sharp) image.\n",
    "    - noise_level: float - The noise level for regularization (default is 0.1).\n",
    "\n",
    "    Returns:\n",
    "    - np.ndarray - The computed deblurring kernel.\n",
    "    \"\"\"\n",
    "   # Compute FFT of input and target images\n",
    "    input_fft = fftpack.fft2(input_image)\n",
    "    target_fft = fftpack.fft2(target_image)\n",
    "    \n",
    "    # Estimate the filter in frequency domain\n",
    "    filter_fft = np.conj(input_fft) * target_fft / (np.abs(input_fft)**2 + noise_level**2)\n",
    "    \n",
    "    # Convert filter back to spatial domain\n",
    "    kernel = np.real(fftpack.ifft2(filter_fft))\n",
    "    \n",
    "    # Normalize and truncate the kernel\n",
    "    kernel = kernel / np.sum(kernel)\n",
    "    kernel = fftpack.fftshift(kernel)\n",
    "    center = kernel.shape[0] // 2\n",
    "    kernel = kernel[center - kernel_size // 2:center + kernel_size // 2 + 1,\n",
    "                    center - kernel_size // 2:center + kernel_size // 2 + 1]\n",
    "    \n",
    "    return kernel"
   ]
  },
  {
   "cell_type": "code",
   "execution_count": 18,
   "metadata": {},
   "outputs": [
    {
     "data": {
      "text/plain": [
       "<matplotlib.image.AxesImage at 0x24e89cf8b00>"
      ]
     },
     "execution_count": 18,
     "metadata": {},
     "output_type": "execute_result"
    },
    {
     "data": {
      "image/png": "[encoded data removed]",
      "text/plain": [
       "<Figure size 640x480 with 1 Axes>"
      ]
     },
     "metadata": {},
     "output_type": "display_data"
    }
   ],
   "source": [
    "# Load images\n",
    "input_image = cv2.imread('Prostate.jpg', cv2.IMREAD_GRAYSCALE)\n",
    "target_image = cv2.imread('good.jpg', cv2.IMREAD_GRAYSCALE)\n",
    "# Compute the kernel using Wiener deconvolution\n",
    "kernel = wiener_deconvolution(input_image, target_image, noise_level=0.1, kernel_size=15)\n",
    "plt.imshow(kernel, cmap = \"gray\")"
   ]
  }
 ],
 "metadata": {
  "kernelspec": {
   "display_name": "Python 3",
   "language": "python",
   "name": "python3"
  },
  "language_info": {
   "codemirror_mode": {
    "name": "ipython",
    "version": 3
   },
   "file_extension": ".py",
   "mimetype": "text/x-python",
   "name": "python",
   "nbconvert_exporter": "python",
   "pygments_lexer": "ipython3",
   "version": "3.12.4"
  }
 },
 "nbformat": 4,
 "nbformat_minor": 2
}
