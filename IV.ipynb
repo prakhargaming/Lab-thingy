{
 "cells": [
  {
   "cell_type": "markdown",
   "metadata": {},
   "source": [
    "## Imports"
   ]
  },
  {
   "cell_type": "code",
   "execution_count": null,
   "metadata": {},
   "outputs": [],
   "source": [
    "import cv2\n",
    "import numpy as np\n",
    "from skimage.metrics import structural_similarity as ssim\n",
    "from scipy.optimize import minimize\n",
    "from skimage.exposure import match_histograms"
   ]
  },
  {
   "cell_type": "markdown",
   "metadata": {},
   "source": [
    "## Peremeters"
   ]
  },
  {
   "cell_type": "code",
   "execution_count": null,
   "metadata": {},
   "outputs": [],
   "source": [
    "number_of_kernel_elements = 9\n",
    "kernel_size = (3,3)"
   ]
  },
  {
   "cell_type": "code",
   "execution_count": null,
   "metadata": {},
   "outputs": [],
   "source": [
    "def process_image(img, kernel_params, kernel_size = (3, 3)):\n",
    "    # Reshape 9-element kernel_params into a 3x3 matrix\n",
    "    kernel = np.array(kernel_params).reshape(kernel_size)\n",
    "    \n",
    "    # Apply convolution\n",
    "    processed = cv2.filter2D(img, -1, kernel)\n",
    "    \n",
    "    return processed\n",
    "\n",
    "def objective_function(kernel_params, img, target):\n",
    "    processed = process_image(img, kernel_params)\n",
    "    similarity = ssim(processed, target)\n",
    "    \n",
    "    return -similarity  # Minimize negative SSIM for optimization"
   ]
  },
  {
   "cell_type": "code",
   "execution_count": null,
   "metadata": {},
   "outputs": [],
   "source": [
    "# Load images\n",
    "img = cv2.imread('prostate.png', cv2.IMREAD_GRAYSCALE)\n",
    "target = cv2.imread('good.jpg', cv2.IMREAD_GRAYSCALE)"
   ]
  },
  {
   "cell_type": "code",
   "execution_count": null,
   "metadata": {},
   "outputs": [],
   "source": [
    "# Initial kernel parameters (random initialization)\n",
    "initial_kernel_params = np.random.uniform(0, 1, size=number_of_kernel_elements)\n",
    "\n",
    "# Bounds for kernel parameter optimization (adjust as needed)\n",
    "kernel_bounds = [(0, 1)] * number_of_kernel_elements\n",
    "\n",
    "# Optimization using a different method (e.g., SLSQP)\n",
    "result = minimize(objective_function, initial_kernel_params, args=(img, target),\n",
    "                  method='SLSQP', bounds=kernel_bounds)\n",
    "\n",
    "optimal_kernel_params = result.x\n",
    "print(\"Optimal kernel parameters:\")\n",
    "print(optimal_kernel_params)\n",
    "\n",
    "# Reshape optimal parameters into a 3x3 kernel matrix\n",
    "optimal_kernel_matrix = optimal_kernel_params.reshape(kernel_size)\n",
    "\n",
    "# Process input image with optimal kernel\n",
    "final_image = process_image(img, optimal_kernel_params)\n",
    "\n",
    "# Histogram matching\n",
    "final_image = match_histograms(final_image, target)\n",
    "\n",
    "# Additional brightness correction\n",
    "mean_target = np.mean(target)\n",
    "mean_final = np.mean(final_image)\n",
    "brightness_diff = mean_target - mean_final\n",
    "final_image = cv2.add(final_image, np.full(final_image.shape, brightness_diff, dtype=final_image.dtype))\n",
    "\n",
    "# Ensure the image is in the correct range\n",
    "final_image = np.clip(final_image, 0, 255).astype(np.uint8)"
   ]
  },
  {
   "cell_type": "code",
   "execution_count": null,
   "metadata": {},
   "outputs": [],
   "source": [
    "cv2.imwrite('optimized_image.png', final_image)\n",
    "cv2.imshow('Original', img)\n",
    "cv2.imshow('Target', target)\n",
    "cv2.imshow('Optimized', final_image)\n",
    "cv2.waitKey(0)\n",
    "cv2.destroyAllWindows()\n"
   ]
  }
 ],
 "metadata": {
  "language_info": {
   "name": "python"
  }
 },
 "nbformat": 4,
 "nbformat_minor": 2
}
